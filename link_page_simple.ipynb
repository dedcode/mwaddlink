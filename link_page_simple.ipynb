{
 "cells": [
  {
   "cell_type": "code",
   "execution_count": 1,
   "metadata": {},
   "outputs": [
    {
     "name": "stdout",
     "output_type": "stream",
     "text": [
      "ready\n"
     ]
    }
   ],
   "source": [
    "%load_ext autoreload\n",
    "%autoreload 2\n",
    "# import re\n",
    "import pickle\n",
    "import shelve\n",
    "# import mwparserfromhell\n",
    "# from mwparserfromhell.nodes.text import Text\n",
    "# from mwparserfromhell.nodes.wikilink import Wikilink \n",
    "\n",
    "# import nltk\n",
    "# from nltk.util import ngrams\n",
    "\n",
    "import time\n",
    "import sys\n",
    "import csv\n",
    "\n",
    "from scripts.utils import *\n",
    "print('ready')"
   ]
  },
  {
   "cell_type": "code",
   "execution_count": 2,
   "metadata": {},
   "outputs": [],
   "source": [
    "# if len(sys.argv) >= 2:\n",
    "#     lang = sys.argv[1]\n",
    "# else:\n",
    "#     lang = 'en'\n",
    "lang = 'simple'\n",
    "wiki   = lang+'wiki'"
   ]
  },
  {
   "cell_type": "code",
   "execution_count": 3,
   "metadata": {},
   "outputs": [],
   "source": [
    "## open datasets as shelve\n",
    "# Load the anchor dictionary (the main data structure)\n",
    "anchors = shelve.open( \"./data/{0}/{0}.anchors.db\".format(lang), flag='r' )\n",
    "pageids = shelve.open( \"./data/{0}/{0}.pageids.db\".format(lang), flag='r' )\n",
    "redirects = shelve.open( \"./data/{0}/{0}.redirects.db\".format(lang), flag='r' )\n",
    "\n",
    "## load word2vec features\n",
    "word2vec = shelve.open(\"./data/{0}/{0}.w2v.filtered.db\".format(lang), flag='r' )\n",
    "## load navigation-vector features\n",
    "nav2vec = shelve.open(\"./data/{0}/{0}.nav.filtered.db\".format(lang), flag='r' )\n",
    "\n",
    "## load trained model\n",
    "import xgboost as xgb\n",
    "model = xgb.XGBClassifier()  # init model\n",
    "model.load_model('./data/{0}/{0}.linkmodel.bin'.format(lang))  # load data"
   ]
  },
  {
   "cell_type": "code",
   "execution_count": 4,
   "metadata": {},
   "outputs": [],
   "source": [
    "%timeit\n",
    "# Get the wikitext of a page\n",
    "\n",
    "\n",
    "# page_title = \"Fernand_Léger\"\n",
    "# page_title = \"Tarek_Kamel\"\n",
    "page_title = \"Shri Yantra\"\n",
    "wikitext = getWikitext(page_title,lang)\n",
    "\n",
    "\n",
    "\n"
   ]
  },
  {
   "cell_type": "code",
   "execution_count": 5,
   "metadata": {},
   "outputs": [
    {
     "name": "stdout",
     "output_type": "stream",
     "text": [
      "processing: Shri Yantra\n",
      "\n",
      "==========\n",
      "\n"
     ]
    },
    {
     "name": "stderr",
     "output_type": "stream",
     "text": [
      "/srv/home/mgerlach/REPOS/mwaddlink/scripts/utils.py:144: RuntimeWarning: invalid value encountered in float_scalars\n",
      "  dst = (np.dot(a, b) / np.linalg.norm(a) / np.linalg.norm(b))\n"
     ]
    },
    {
     "name": "stdout",
     "output_type": "stream",
     "text": [
      "0.9302759170532227\n"
     ]
    }
   ],
   "source": [
    "THRESHOLD = 0.9\n",
    "\n",
    "print(\"processing:\", page_title)\n",
    "print(\"\\n==========\\n\")\n",
    "t1 = time.time()\n",
    "result = process_page(wikitext, page_title, anchors, pageids, redirects, word2vec,nav2vec, model, threshold = THRESHOLD)\n",
    "# print(result)\n",
    "t2 = time.time()\n",
    "print(t2-t1)\n"
   ]
  },
  {
   "cell_type": "code",
   "execution_count": 6,
   "metadata": {},
   "outputs": [
    {
     "name": "stdout",
     "output_type": "stream",
     "text": [
      "{{complex|date=June 2012}}\n",
      "[[Image:SriYantra color.svg|thumb|The Shri Yantra.]]\n",
      "The '''Shri Yantra''' or '''Sri Chakra''' of [[Tripura Sundari]] is a [[yantra]] or [[mandala]] formed by nine interlocking triangles surrounding a dot in the cetner called a [[bindu]].  Four of these triangles are orientated upright representing [[Shiva]] or the [[Male|Masculine|pr=0.9999782]].  Five of these triangles are inverted triangles represent [[Shakti]] or the [[Femininity|Feminine|pr=0.97658545]]. Because it is composed of nine triangles, it is also known as the ''navayoni chakra''.<ref name=SC>{{cite book|last=Shankaranarayanan|first=S.|title=Sri Chakra|edition=3rd|year=1979|publisher=Dipti Publications}}</ref>\n",
      "\n",
      "Together the nine triangles are interlaced in such a way as to form [[43 (number)|43]] smaller triangles in a web symbolic of the entire cosmos or a [[Uterus|womb|pr=0.99999416]] symbolic of creation. Together they express [[Advaita|Advaita-ism]] or [[non-duality]]. This is surrounded by a lotus of eight petals, a lotus of sixteen petals, and an earthsquare resembling a [[Temple|temple|pr=0.9678946]] with four doors.<ref name=SC/>\n",
      "\n",
      "The Shri [[Chakra|Chakra|pr=0.9999682]] is also known as the ''nava chakra'' because it can also be seen as having nine levels. Each level corresponds to a [[mudra]], a [[yogini]], and a specific form of the [[Deity|deity|pr=0.99997807]] [[Tripura Sundari]] along with her [[mantra]]. These levels starting from the outside or bottom layer are:<ref name=SC/>\n",
      "#''Trailokya Mohana'', a square of three lines with four portals\n",
      "#''Sarvasa Paripuraka'', a sixteen-petal lotus\n",
      "#''Sarva Sankshobahana'', an eight-petal lotus\n",
      "#''Sarva Saubhagyadayaka'', composed of fourteen small triangles\n",
      "#''Sarvarthasadhaka'', composed of ten small triangles\n",
      "#''Sarva Rakshakara'', composed of ten small triangles\n",
      "#''Sarva Rohahara'', composed of eight small triangles\n",
      "#''Sarva siddhi prada'', composed of 1 small [[Triangle|triangle|pr=0.9303133]]\n",
      "#''Sarvanandamaya'', composed of a point or ''bindu''\n",
      "\n",
      "==References==\n",
      "{{reflist}}\n",
      "\n",
      "==Other websites==\n",
      "\n",
      "\n",
      "*[http://www.shivashakti.com/tripura.htm Lalita Tripurasundari, the Red Goddess]\n",
      "*[https://narmadeshwarshrilaxmiyantramandir.com Shri Narmadeshwar Shri Laxmi Yantra Mandir]\n",
      "*[http://www.astrologyplus.in/shriyantra.htm Sri Yantra]\n",
      "*\n",
      "*[http://www.indoindians.com/festival/srichakra.htm How to Draw a Sri Chakra]\n",
      "*[http://www.bizzarocreations.com/gnosis/SriYantra.html How to draw Sri Yantra]\n",
      "\n",
      "[[Category:Hinduism]]\n",
      "[[Category:Meditation]]\n"
     ]
    }
   ],
   "source": [
    "print(result)"
   ]
  },
  {
   "cell_type": "code",
   "execution_count": null,
   "metadata": {},
   "outputs": [],
   "source": []
  }
 ],
 "metadata": {
  "kernelspec": {
   "display_name": "venv_mwaddlink",
   "language": "python",
   "name": "venv_mwaddlink"
  },
  "language_info": {
   "codemirror_mode": {
    "name": "ipython",
    "version": 3
   },
   "file_extension": ".py",
   "mimetype": "text/x-python",
   "name": "python",
   "nbconvert_exporter": "python",
   "pygments_lexer": "ipython3",
   "version": "3.7.8"
  }
 },
 "nbformat": 4,
 "nbformat_minor": 4
}
